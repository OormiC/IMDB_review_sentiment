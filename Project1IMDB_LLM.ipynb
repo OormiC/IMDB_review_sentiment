{
  "nbformat": 4,
  "nbformat_minor": 0,
  "metadata": {
    "colab": {
      "provenance": [],
      "authorship_tag": "ABX9TyMakDlC6uA7qRmIKZYODi4p",
      "include_colab_link": true
    },
    "kernelspec": {
      "name": "python3",
      "display_name": "Python 3"
    },
    "language_info": {
      "name": "python"
    }
  },
  "cells": [
    {
      "cell_type": "markdown",
      "metadata": {
        "id": "view-in-github",
        "colab_type": "text"
      },
      "source": [
        "<a href=\"https://colab.research.google.com/github/OormiC/IMDB_review_sentiment/blob/main/Project1IMDB_LLM.ipynb\" target=\"_parent\"><img src=\"https://colab.research.google.com/assets/colab-badge.svg\" alt=\"Open In Colab\"/></a>"
      ]
    },
    {
      "cell_type": "code",
      "source": [
        "!pip install --q --upgrade datasets\n",
        "!pip install openai==0.28"
      ],
      "metadata": {
        "id": "a6kBmmBAld0A",
        "colab": {
          "base_uri": "https://localhost:8080/"
        },
        "outputId": "0ab6ef7f-b77c-4296-f7a7-05f740af67b6"
      },
      "execution_count": 1,
      "outputs": [
        {
          "output_type": "stream",
          "name": "stdout",
          "text": [
            "Collecting openai==0.28\n",
            "  Using cached openai-0.28.0-py3-none-any.whl (76 kB)\n",
            "Requirement already satisfied: requests>=2.20 in /usr/local/lib/python3.10/dist-packages (from openai==0.28) (2.31.0)\n",
            "Requirement already satisfied: tqdm in /usr/local/lib/python3.10/dist-packages (from openai==0.28) (4.66.2)\n",
            "Requirement already satisfied: aiohttp in /usr/local/lib/python3.10/dist-packages (from openai==0.28) (3.9.3)\n",
            "Requirement already satisfied: charset-normalizer<4,>=2 in /usr/local/lib/python3.10/dist-packages (from requests>=2.20->openai==0.28) (3.3.2)\n",
            "Requirement already satisfied: idna<4,>=2.5 in /usr/local/lib/python3.10/dist-packages (from requests>=2.20->openai==0.28) (3.6)\n",
            "Requirement already satisfied: urllib3<3,>=1.21.1 in /usr/local/lib/python3.10/dist-packages (from requests>=2.20->openai==0.28) (2.0.7)\n",
            "Requirement already satisfied: certifi>=2017.4.17 in /usr/local/lib/python3.10/dist-packages (from requests>=2.20->openai==0.28) (2024.2.2)\n",
            "Requirement already satisfied: aiosignal>=1.1.2 in /usr/local/lib/python3.10/dist-packages (from aiohttp->openai==0.28) (1.3.1)\n",
            "Requirement already satisfied: attrs>=17.3.0 in /usr/local/lib/python3.10/dist-packages (from aiohttp->openai==0.28) (23.2.0)\n",
            "Requirement already satisfied: frozenlist>=1.1.1 in /usr/local/lib/python3.10/dist-packages (from aiohttp->openai==0.28) (1.4.1)\n",
            "Requirement already satisfied: multidict<7.0,>=4.5 in /usr/local/lib/python3.10/dist-packages (from aiohttp->openai==0.28) (6.0.5)\n",
            "Requirement already satisfied: yarl<2.0,>=1.0 in /usr/local/lib/python3.10/dist-packages (from aiohttp->openai==0.28) (1.9.4)\n",
            "Requirement already satisfied: async-timeout<5.0,>=4.0 in /usr/local/lib/python3.10/dist-packages (from aiohttp->openai==0.28) (4.0.3)\n",
            "Installing collected packages: openai\n",
            "  Attempting uninstall: openai\n",
            "    Found existing installation: openai 1.20.0\n",
            "    Uninstalling openai-1.20.0:\n",
            "      Successfully uninstalled openai-1.20.0\n",
            "Successfully installed openai-0.28.0\n"
          ]
        }
      ]
    },
    {
      "cell_type": "code",
      "execution_count": 2,
      "metadata": {
        "id": "3I_FQEc2lacW"
      },
      "outputs": [],
      "source": [
        "import datasets\n",
        "from google.colab import userdata\n",
        "import pandas as pd\n",
        "import pandas as pd\n",
        "import openai\n",
        "openai.api_key = userdata.get('apiKey')\n",
        "imdb = datasets.load_dataset(\"scikit-learn/imdb\")"
      ]
    },
    {
      "cell_type": "code",
      "source": [
        "def classify_sentiment(input_prompt, slice_size):\n",
        "    # Initialize list to store predicted sentiments\n",
        "    predicted_sentiments = []\n",
        "\n",
        "    # Extract reviews based on the slice_size\n",
        "    reviews = imdb['train']['review'][:slice_size]\n",
        "    actual_sentiments = imdb['train']['sentiment'][:slice_size]\n",
        "\n",
        "    # Iterate over the sliced items\n",
        "    for review in reviews:\n",
        "        # Construct the full prompt\n",
        "        full_prompt = f\"{input_prompt}: {review}\\nSentiment:\"\n",
        "\n",
        "        # Pass the full prompt to OpenAI API for sentiment analysis\n",
        "        response = openai.Completion.create(\n",
        "            model=\"gpt-3.5-turbo-instruct\",\n",
        "            prompt=full_prompt,\n",
        "            max_tokens=1,\n",
        "            temperature = 0\n",
        "        )\n",
        "        # Extract the sentiment label from the output (removing any white space, and ensuring lower case)\n",
        "        predicted_sentiment = response['choices'][0]['text'].strip().lower()\n",
        "\n",
        "        # Add the predicted sentiment to the list\n",
        "        predicted_sentiments.append(predicted_sentiment)\n",
        "\n",
        "    # Create a DataFrame from the reviews and predicted sentiment labels\n",
        "    classify_df = pd.DataFrame({\n",
        "        'Review': reviews,\n",
        "        'Actual_Sentiment': actual_sentiments,\n",
        "        'Predicted_Sentiment': predicted_sentiments\n",
        "    })\n",
        "\n",
        "    return classify_df"
      ],
      "metadata": {
        "id": "-iAXGrNcdO0Z"
      },
      "execution_count": 3,
      "outputs": []
    },
    {
      "cell_type": "code",
      "source": [
        "if __name__ == \"__main__\":\n",
        "  try:\n",
        "    text = input(\"How many reviews would you like to compare? \")\n",
        "    prompt = input(\"Please prompt the model e.g. Sentiment analysis for the following text \")\n",
        "    print(classify_sentiment(prompt, int(text)))\n",
        "  except ValueError:\n",
        "    print(f\"Please enter an integer between 1 and {len(imdb['train'])} \")"
      ],
      "metadata": {
        "id": "lKXma89cqldK",
        "colab": {
          "base_uri": "https://localhost:8080/"
        },
        "outputId": "f4225ba4-5745-422b-e74c-bf9794f9bf03"
      },
      "execution_count": 4,
      "outputs": [
        {
          "output_type": "stream",
          "name": "stdout",
          "text": [
            "How many reviews would you like to compare? 1\n",
            "Please prompt the model e.g. Sentiment analysis for the following text Sentiment analysis for the following text\n",
            "                                              Review Actual_Sentiment  \\\n",
            "0  One of the other reviewers has mentioned that ...         positive   \n",
            "\n",
            "  Predicted_Sentiment  \n",
            "0            positive  \n"
          ]
        }
      ]
    },
    {
      "cell_type": "code",
      "source": [],
      "metadata": {
        "id": "Y2vAqIszyRyy"
      },
      "execution_count": null,
      "outputs": []
    }
  ]
}